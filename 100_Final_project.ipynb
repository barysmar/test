{
  "nbformat": 4,
  "nbformat_minor": 0,
  "metadata": {
    "colab": {
      "name": "100 - Final project.ipynb",
      "provenance": [],
      "include_colab_link": true
    },
    "kernelspec": {
      "display_name": "Python 3",
      "language": "python",
      "name": "python3"
    },
    "language_info": {
      "codemirror_mode": {
        "name": "ipython",
        "version": 3
      },
      "file_extension": ".py",
      "mimetype": "text/x-python",
      "name": "python",
      "nbconvert_exporter": "python",
      "pygments_lexer": "ipython3",
      "version": "3.7.6"
    }
  },
  "cells": [
    {
      "cell_type": "markdown",
      "metadata": {
        "id": "view-in-github",
        "colab_type": "text"
      },
      "source": [
        "<a href=\"https://colab.research.google.com/github/barysmar/test/blob/main/100_Final_project.ipynb\" target=\"_parent\"><img src=\"https://colab.research.google.com/assets/colab-badge.svg\" alt=\"Open In Colab\"/></a>"
      ]
    },
    {
      "cell_type": "markdown",
      "metadata": {
        "id": "a6ZZfC2Rl9f4"
      },
      "source": [
        "# Palmer Penguins Dataset\n"
      ]
    },
    {
      "cell_type": "markdown",
      "metadata": {
        "id": "mKy9U3s_rzSv"
      },
      "source": [
        "Adelié, Gentoo a Chinstrap jsou druhy tučňáků žijící na souostroví Palmer v Antarktidě\n",
        "<img src=\"https://www.gabemednick.com/post/penguin/featured.png\">\n",
        "\n",
        "Tento dataset obsahuje 344 dat z jejich pozorování. Konkrétně jde o délku a hloubku zobáku, délku plotví, hmotnost, pohlaví, ostrov a druh.\n",
        "\n",
        "<img src=\"https://miro.medium.com/v2/resize:fit:640/format:webp/1*WSb-Y9xb3YSx9owW7_JuMw.png\">\n",
        "\n",
        "Cílem je klasifikovat tučňáky do jednotlivých druhů na základě všech nebo části příznaků. Bylo použito kNN, decision tree a random forest."
      ]
    },
    {
      "cell_type": "markdown",
      "metadata": {
        "id": "kNAqrM59Sp0S"
      },
      "source": [
        "## Code"
      ]
    },
    {
      "cell_type": "markdown",
      "metadata": {
        "id": "v1XwYQA7ag9m"
      },
      "source": [
        "Split the code blocks as you need them."
      ]
    },
    {
      "cell_type": "markdown",
      "metadata": {
        "id": "DlPp5EXLirb6"
      },
      "source": [
        "### Dataset - describe + load + split\n",
        "\n",
        "\n",
        "<img src=\"https://miro.medium.com/v2/resize:fit:640/format:webp/1*WSb-Y9xb3YSx9owW7_JuMw.png\">\n",
        "\n",
        "\n"
      ]
    },
    {
      "cell_type": "markdown",
      "source": [
        "Import dataset"
      ],
      "metadata": {
        "id": "tw8-93_UCqXk"
      }
    },
    {
      "cell_type": "code",
      "source": [
        "import kagglehub\n",
        "\n",
        "# Download latest version\n",
        "path = kagglehub.dataset_download(\"hughhhh/penguins-for-classification\")\n",
        "\n",
        "print(\"Path to dataset files:\", path)"
      ],
      "metadata": {
        "colab": {
          "base_uri": "https://localhost:8080/"
        },
        "id": "THHLTNhlRXxC",
        "outputId": "b63db979-f633-4e73-e453-f28e24f7d96b"
      },
      "execution_count": 7,
      "outputs": [
        {
          "output_type": "stream",
          "name": "stdout",
          "text": [
            "Warning: Looks like you're using an outdated `kagglehub` version, please consider updating (latest version: 0.3.5)\n",
            "Downloading from https://www.kaggle.com/api/v1/datasets/download/hughhhh/penguins-for-classification?dataset_version_number=1...\n"
          ]
        },
        {
          "output_type": "stream",
          "name": "stderr",
          "text": [
            "100%|██████████| 2.85k/2.85k [00:00<00:00, 5.00MB/s]"
          ]
        },
        {
          "output_type": "stream",
          "name": "stdout",
          "text": [
            "Extracting files...\n",
            "Path to dataset files: /root/.cache/kagglehub/datasets/hughhhh/penguins-for-classification/versions/1\n"
          ]
        },
        {
          "output_type": "stream",
          "name": "stderr",
          "text": [
            "\n"
          ]
        }
      ]
    },
    {
      "cell_type": "code",
      "source": [
        "# # import numpy as np\n",
        "\n",
        "# # a = np.array([[0.2,0.4,'male','adelia'],  [0.26,0.674,'female','gento']  ])\n",
        "# # print(a)\n",
        "# # a[a=='male'] = 0\n",
        "# # a[a=='female'] = 1\n",
        "# # print(a)\n",
        "# import numpy as np\n",
        "\n",
        "# def accuracy(y_true, y_pred):\n",
        "#   accuracy = np.sum(y_true == y_pred) / len(y_true)\n",
        "#   return accuracy\n",
        "\n",
        "# # Prepare data\n",
        "# X, y = datasets.make_classification(n_samples=1000, n_features=4, n_classes=2, random_state=123)\n",
        "\n",
        "# # more preference of one class\n",
        "# y[:int(3*len(y)/4)] = 1\n",
        "\n",
        "# # Split data\n",
        "# X_train, X_test, y_train, y_test = train_test_split(X, y, test_size=0.20, random_state=123)\n",
        "# # Design a model\n",
        "# clf = MyDummyClassifier()\n",
        "\n",
        "# # 4. Train a model\n",
        "# clf.fit(X_train, y_train)\n",
        "\n",
        "# # 5. Make predictions\n",
        "# predictions = clf.predict(X_test)\n",
        "\n",
        "# # 6. Evaluate predictions\n",
        "# print(\"Dummy classifier has accuracy\", accuracy(y_test, predictions))\n",
        "\n",
        "# from sklearn import datasets\n",
        "# from sklearn.model_selection import train_test_split\n",
        "# from sklearn.metrics import confusion_matrix\n",
        "# from sklearn.metrics import accuracy_score\n",
        "# from sklearn.metrics import classification_report\n",
        "\n",
        "# def accuracy(y_true, y_pred):\n",
        "#   accuracy = np.sum(y_true == y_pred) / len(y_true)\n",
        "#   return accuracy\n",
        "\n",
        "# # X, y = data.data, data.target\n",
        "\n",
        "# # print(data.DESCR)\n",
        "\n",
        "\n",
        "\n",
        "# clf = DecisionTree(max_depth=5)\n",
        "# clf.fit(X_train, y_train)\n",
        "\n",
        "# y_pred = clf.predict(X_test)\n",
        "# acc = accuracy(y_test, y_pred)\n",
        "\n",
        "# print(\"Accuracy:\", acc)\n",
        "# print(accuracy_score(y_pred, y_test))\n",
        "# print()\n",
        "# print(confusion_matrix(y_pred, y_test))\n",
        "\n",
        "# print(classification_report(y_pred, y_test))"
      ],
      "metadata": {
        "id": "8M7rcJZqskyw"
      },
      "execution_count": 109,
      "outputs": []
    },
    {
      "cell_type": "markdown",
      "source": [
        "Data pre-processing"
      ],
      "metadata": {
        "id": "ixte7CGCCwvA"
      }
    },
    {
      "cell_type": "code",
      "metadata": {
        "id": "_sG6-apMCtlC",
        "colab": {
          "base_uri": "https://localhost:8080/"
        },
        "outputId": "9c2db926-6345-4c0f-b57e-c292eba59860"
      },
      "source": [
        "import numpy as np\n",
        "from sklearn import datasets\n",
        "from sklearn.model_selection import train_test_split\n",
        "import pandas as pd\n",
        "from matplotlib import pyplot as plt\n",
        "\n",
        "penguins = pd.read_csv(path+'/penguins.csv')\n",
        "#penguins.head()\n",
        "\n",
        "#Delet NaN data\n",
        "penguins_data = penguins.dropna()\n",
        "#print(penguins_data)\n",
        "\n",
        "penguins_data = penguins_data.to_numpy()\n",
        "#Delete '.' in data\n",
        "penguins_data = penguins_data[~np.any(penguins_data == '.', axis=1)] #point = ~np.any(penguins_data == '.', axis=1)\n",
        "\n",
        "#Drop the islands in '0' column\n",
        "print(penguins_data[:,1:])\n",
        "print('N_data:',len(penguins_data))\n",
        "\n",
        "# Def X\n",
        "X = penguins_data[:,1:-1]\n",
        "#Change to binary anotation in\n",
        "X[X=='MALE'] = 0\n",
        "X[X=='FEMALE'] = 1\n",
        "# print(np.where(X=='.'))\n",
        "# print(type(X))\n",
        "X = X.astype(float)\n",
        "# print(X)\n",
        "y = penguins_data[:,-1]\n",
        "# print(y)\n",
        "#Ghange y to numbers\n",
        "y[y=='Adelie'] = 0\n",
        "y[y=='Chinstrap'] = 1\n",
        "y[y=='Gentoo'] = 2\n",
        "y = y.astype(int)\n",
        "# print(y)\n",
        "#print(X,y)\n",
        "print('Adelie: 0', '\\t Chinstrap: 1', '\\tGentoo: 2')\n",
        "print(np.sum(y==0),'\\t\\t', np.sum(y==1),'\\t\\t',np.sum(y==2)) #'=',len(y)\n",
        "#print(X[:,:-1])"
      ],
      "execution_count": 171,
      "outputs": [
        {
          "output_type": "stream",
          "name": "stdout",
          "text": [
            "[[39.1 18.7 181.0 3750.0 'MALE' 'Adelie']\n",
            " [39.5 17.4 186.0 3800.0 'FEMALE' 'Adelie']\n",
            " [40.3 18.0 195.0 3250.0 'FEMALE' 'Adelie']\n",
            " ...\n",
            " [50.4 15.7 222.0 5750.0 'MALE' 'Gentoo']\n",
            " [45.2 14.8 212.0 5200.0 'FEMALE' 'Gentoo']\n",
            " [49.9 16.1 213.0 5400.0 'MALE' 'Gentoo']]\n",
            "N_data: 333\n",
            "Adelie: 0 \t Chinstrap: 1 \tGentoo: 2\n",
            "146 \t\t 68 \t\t 119\n",
            "[[  39.1   18.7  181.  3750. ]\n",
            " [  39.5   17.4  186.  3800. ]\n",
            " [  40.3   18.   195.  3250. ]\n",
            " ...\n",
            " [  50.4   15.7  222.  5750. ]\n",
            " [  45.2   14.8  212.  5200. ]\n",
            " [  49.9   16.1  213.  5400. ]]\n"
          ]
        }
      ]
    },
    {
      "cell_type": "markdown",
      "source": [
        "Data set split"
      ],
      "metadata": {
        "id": "2BiDE0oHFeKE"
      }
    },
    {
      "cell_type": "code",
      "source": [
        "X_train, X_test, y_train, y_test = train_test_split(X, y, test_size=0.2, random_state=13873)"
      ],
      "metadata": {
        "id": "_dEeU3hB5vWj"
      },
      "execution_count": 345,
      "outputs": []
    },
    {
      "cell_type": "code",
      "metadata": {
        "id": "0qI9C2PhjDJP",
        "cellView": "form"
      },
      "source": [
        "# @title Decision tree\n",
        "# class MyDummyClassifier:\n",
        "#   def __init__(self):\n",
        "#     pass\n",
        "\n",
        "#   def fit(self, X, y):\n",
        "#     n_samples, n_features = X.shape\n",
        "#     self._classes = np.unique(y)\n",
        "#     self._priors = [X[c==y].shape[0] / float(n_samples) for c in self._classes]\n",
        "\n",
        "#   def predict(self, X):\n",
        "#     print(self._priors)\n",
        "#     return np.random.choice(self._classes, X.shape[0], p=self._priors)\n",
        "\n",
        "from collections import Counter\n",
        "\n",
        "import numpy as np\n",
        "\n",
        "\n",
        "def entropy(y):\n",
        "  hist = np.bincount(y)\n",
        "  ps = hist / len(y)\n",
        "  return -np.sum([p * np.log2(p) for p in ps if p > 0])\n",
        "\n",
        "\n",
        "class Node:\n",
        "  def __init__(self, feature=None, threshold=None, left=None, right=None, *, value=None):\n",
        "    self.feature = feature\n",
        "    self.threshold = threshold\n",
        "    self.left = left\n",
        "    self.right = right\n",
        "    self.value = value\n",
        "\n",
        "  def is_leaf_node(self):\n",
        "    return self.value is not None\n",
        "\n",
        "\n",
        "class DecisionTree:\n",
        "  def __init__(self, min_samples_split=2, max_depth=100, n_feats=None):\n",
        "    self.min_samples_split = min_samples_split\n",
        "    self.max_depth = max_depth\n",
        "    self.n_feats = n_feats\n",
        "    self.root = None\n",
        "\n",
        "  def fit(self, X, y):\n",
        "    self.n_feats = X.shape[1] if not self.n_feats else min(self.n_feats, X.shape[1])\n",
        "    self.root = self._grow_tree(X, y)\n",
        "\n",
        "  def predict(self, X):\n",
        "    return np.array([self._traverse_tree(x, self.root) for x in X])\n",
        "\n",
        "  def _grow_tree(self, X, y, depth=0):\n",
        "    n_samples, n_features = X.shape\n",
        "    n_labels = len(np.unique(y))\n",
        "\n",
        "    # stopping criteria\n",
        "    if (\n",
        "        depth >= self.max_depth\n",
        "        or n_labels == 1\n",
        "        or n_samples < self.min_samples_split\n",
        "    ):\n",
        "        leaf_value = self._most_common_label(y)\n",
        "        return Node(value=leaf_value)\n",
        "\n",
        "    feat_idxs = np.random.choice(n_features, self.n_feats, replace=False)\n",
        "\n",
        "    # greedily select the best split according to information gain\n",
        "    best_feat, best_thresh = self._best_criteria(X, y, feat_idxs)\n",
        "\n",
        "    # grow the children that result from the split\n",
        "    left_idxs, right_idxs = self._split(X[:, best_feat], best_thresh)\n",
        "    left = self._grow_tree(X[left_idxs, :], y[left_idxs], depth + 1)\n",
        "    right = self._grow_tree(X[right_idxs, :], y[right_idxs], depth + 1)\n",
        "    return Node(best_feat, best_thresh, left, right)\n",
        "\n",
        "  def _best_criteria(self, X, y, feat_idxs):\n",
        "    best_gain = -1\n",
        "    split_idx, split_thresh = None, None\n",
        "    for feat_idx in feat_idxs:\n",
        "        X_column = X[:, feat_idx]\n",
        "        thresholds = np.unique(X_column)\n",
        "        for threshold in thresholds:\n",
        "            gain = self._information_gain(y, X_column, threshold)\n",
        "\n",
        "            if gain > best_gain:\n",
        "                best_gain = gain\n",
        "                split_idx = feat_idx\n",
        "                split_thresh = threshold\n",
        "\n",
        "    return split_idx, split_thresh\n",
        "\n",
        "  def _information_gain(self, y, X_column, split_thresh):\n",
        "    # parent loss\n",
        "    parent_entropy = entropy(y)\n",
        "\n",
        "    # generate split\n",
        "    left_idxs, right_idxs = self._split(X_column, split_thresh)\n",
        "\n",
        "    if len(left_idxs) == 0 or len(right_idxs) == 0:\n",
        "        return 0\n",
        "\n",
        "    # compute the weighted avg. of the loss for the children\n",
        "    n = len(y)\n",
        "    n_l, n_r = len(left_idxs), len(right_idxs)\n",
        "    e_l, e_r = entropy(y[left_idxs]), entropy(y[right_idxs])\n",
        "    child_entropy = (n_l / n) * e_l + (n_r / n) * e_r\n",
        "\n",
        "    # information gain is difference in loss before vs. after split\n",
        "    ig = parent_entropy - child_entropy\n",
        "    return ig\n",
        "\n",
        "  def _split(self, X_column, split_thresh):\n",
        "    left_idxs = np.argwhere(X_column <= split_thresh).flatten()\n",
        "    right_idxs = np.argwhere(X_column > split_thresh).flatten()\n",
        "    return left_idxs, right_idxs\n",
        "\n",
        "  def _traverse_tree(self, x, node):\n",
        "    if node.is_leaf_node():\n",
        "        return node.value\n",
        "\n",
        "    if x[node.feature] <= node.threshold:\n",
        "        return self._traverse_tree(x, node.left)\n",
        "    return self._traverse_tree(x, node.right)\n",
        "\n",
        "  def _most_common_label(self, y):\n",
        "    counter = Counter(y)\n",
        "    most_common = counter.most_common(1)[0][0]\n",
        "    return most_common"
      ],
      "execution_count": 346,
      "outputs": []
    },
    {
      "cell_type": "code",
      "metadata": {
        "colab": {
          "base_uri": "https://localhost:8080/"
        },
        "id": "YxaVVzZCjTQ5",
        "outputId": "ae331c93-21da-4a0a-e91a-2c12a88e7bb1"
      },
      "source": [
        "## @title Decision tree\n",
        "\n",
        "# def accuracy(y_true, y_pred):\n",
        "#   accuracy = np.sum(y_true == y_pred) / len(y_true)\n",
        "#   return accuracy\n",
        "\n",
        "# # Design a model\n",
        "# clf = MyDummyClassifier()\n",
        "\n",
        "# # 4. Train a model\n",
        "# clf.fit(X_train, y_train)\n",
        "\n",
        "# # 5. Make predictions\n",
        "# predictions = clf.predict(X_test)\n",
        "\n",
        "# # 6. Evaluate predictions\n",
        "# print(\"Dummy classifier has accuracy\", accuracy(y_test, predictions))\n",
        "\n",
        "from sklearn import datasets\n",
        "from sklearn.model_selection import train_test_split\n",
        "from sklearn.metrics import confusion_matrix\n",
        "from sklearn.metrics import accuracy_score\n",
        "from sklearn.metrics import classification_report\n",
        "\n",
        "# def accuracy(y_true, y_pred):\n",
        "#   accuracy = np.sum(y_true == y_pred) / len(y_true)\n",
        "#   return accuracy\n",
        "\n",
        "#X_train, X_test, y_train, y_test = train_test_split(X, y, test_size=0.2, random_state=19234)\n",
        "\n",
        "clf = DecisionTree(max_depth=5)\n",
        "clf.fit(X_train, y_train)\n",
        "\n",
        "y_pred = clf.predict(X_test)\n",
        "acc = accuracy(y_test, y_pred)\n",
        "\n",
        "# print(\"Accuracy:\", acc)\n",
        "print(\"Accuracy:\",accuracy_score(y_pred, y_test))\n",
        "print()\n",
        "print(confusion_matrix(y_pred, y_test))\n",
        "\n",
        "print(classification_report(y_pred, y_test))"
      ],
      "execution_count": 347,
      "outputs": [
        {
          "output_type": "stream",
          "name": "stdout",
          "text": [
            "Accuracy: 0.9701492537313433\n",
            "\n",
            "[[27  2  0]\n",
            " [ 0  9  0]\n",
            " [ 0  0 29]]\n",
            "              precision    recall  f1-score   support\n",
            "\n",
            "           0       1.00      0.93      0.96        29\n",
            "           1       0.82      1.00      0.90         9\n",
            "           2       1.00      1.00      1.00        29\n",
            "\n",
            "    accuracy                           0.97        67\n",
            "   macro avg       0.94      0.98      0.95        67\n",
            "weighted avg       0.98      0.97      0.97        67\n",
            "\n"
          ]
        }
      ]
    },
    {
      "cell_type": "code",
      "source": [
        "#@title Random forest\n",
        "\n",
        "import numpy as np\n",
        "from collections import Counter\n",
        "\n",
        "def bootstrap_sample(X, y):\n",
        "  n_samples = X.shape[0]\n",
        "  idxs = np.random.choice(n_samples, size=n_samples, replace=True)\n",
        "  return X[idxs], y[idxs]\n",
        "\n",
        "def most_common_label(y):\n",
        "    counter = Counter(y)\n",
        "    most_common = counter.most_common(1)[0][0]\n",
        "    return most_common\n",
        "\n",
        "class RandomForest:\n",
        "\n",
        "  def __init__(self, n_trees=100, min_samples_split=2, max_depth=100, n_feats=None):\n",
        "    self.n_trees = n_trees\n",
        "    self.min_samples_split = min_samples_split\n",
        "    self.max_depth = max_depth\n",
        "    self.n_feats = n_feats\n",
        "    self.trees = []\n",
        "\n",
        "  def fit(self, X, y):\n",
        "    self.trees = []\n",
        "    for _ in range(self.n_trees):\n",
        "      tree = DecisionTree(min_samples_split=self.min_samples_split,\n",
        "                          max_depth=self.max_depth, n_feats=self.n_feats)\n",
        "      X_sample, y_sample = bootstrap_sample(X, y)\n",
        "      tree.fit(X_sample, y_sample)\n",
        "      self.trees.append(tree)\n",
        "\n",
        "  def predict(self, X):\n",
        "    tree_preds = np.array([tree.predict(X) for tree in self.trees])\n",
        "    # [[1111], [0000], [1111]] ==>> [[101], [101], [101], [101]]\n",
        "    tree_preds = np.swapaxes(tree_preds, 0, 1)\n",
        "    y_pred = [most_common_label(tree_pred) for tree_pred in tree_preds]\n",
        "    return np.array(y_pred)\n",
        "\n",
        "clf = RandomForest(n_trees=5, max_depth=5)\n",
        "\n",
        "clf.fit(X_train, y_train)\n",
        "y_pred = clf.predict(X_test)\n",
        "\n",
        "print(\"Accuracy:\", accuracy_score(y_pred, y_test))\n",
        "print(confusion_matrix(y_pred, y_test))\n",
        "\n",
        "print(classification_report(y_pred, y_test))"
      ],
      "metadata": {
        "colab": {
          "base_uri": "https://localhost:8080/"
        },
        "id": "7VEWzJI6KCjE",
        "outputId": "81228a23-c10b-4e61-98d2-eb358651a4ef"
      },
      "execution_count": 348,
      "outputs": [
        {
          "output_type": "stream",
          "name": "stdout",
          "text": [
            "Accuracy: 0.9701492537313433\n",
            "[[26  1  0]\n",
            " [ 1 10  0]\n",
            " [ 0  0 29]]\n",
            "              precision    recall  f1-score   support\n",
            "\n",
            "           0       0.96      0.96      0.96        27\n",
            "           1       0.91      0.91      0.91        11\n",
            "           2       1.00      1.00      1.00        29\n",
            "\n",
            "    accuracy                           0.97        67\n",
            "   macro avg       0.96      0.96      0.96        67\n",
            "weighted avg       0.97      0.97      0.97        67\n",
            "\n"
          ]
        }
      ]
    },
    {
      "cell_type": "code",
      "source": [
        "# @title kNN\n",
        "## kNN\n",
        "\n",
        "from collections import Counter\n",
        "import numpy as np\n",
        "\n",
        "def euclidean_distance(x1, x2):\n",
        "    return np.sqrt(np.sum((x1 - x2) ** 2))\n",
        "\n",
        "class KNN:\n",
        "    def __init__(self, k=3):\n",
        "        self.k = k\n",
        "\n",
        "    def fit(self, X, y):\n",
        "        self.X_train = X\n",
        "        self.y_train = y\n",
        "\n",
        "    def predict(self, X):\n",
        "        y_pred = [self._predict(x) for x in X]\n",
        "        return np.array(y_pred)\n",
        "\n",
        "    def _predict(self, x):\n",
        "        # Compute distances between x and all examples in the training set\n",
        "        distances = [euclidean_distance(x, x_train) for x_train in self.X_train]\n",
        "        # Sort by distance and return indices of the first k neighbors\n",
        "        k_idx = np.argsort(distances)[: self.k]\n",
        "        # Extract the labels of the k nearest neighbor training samples\n",
        "        k_neighbor_labels = [self.y_train[i] for i in k_idx]\n",
        "        # return the most common class label\n",
        "        most_common = Counter(k_neighbor_labels).most_common(1)\n",
        "        return most_common[0][0]"
      ],
      "metadata": {
        "cellView": "form",
        "id": "0P-9YON9zSkh"
      },
      "execution_count": 119,
      "outputs": []
    },
    {
      "cell_type": "code",
      "source": [
        "from matplotlib.colors import ListedColormap\n",
        "from sklearn import datasets\n",
        "from sklearn.model_selection import train_test_split\n",
        "import matplotlib.pyplot as plt\n",
        "\n",
        "cmap = ListedColormap([\"darkorange\",\"darkorchid\",\"cyan\"]) #Adelie - orange,Chrinstrap - orchid, gento - blue\n",
        "\n",
        "# X_train, X_test, y_train, y_test = train_test_split(X, y, test_size=0.2, random_state=1333)\n",
        "# print(X_train)\n",
        "# 3. Design a model\n",
        "k = 5\n",
        "clf = KNN(k=k)\n",
        "\n",
        "# 4. Train a model\n",
        "clf.fit(X_train, y_train)\n",
        "\n",
        "# 5. Make predictions\n",
        "y_pred = clf.predict(X_test)\n",
        "\n",
        "# 6. Evaluate predictions\n",
        "print(\"KNN classification accuracy\", accuracy(y_test, y_pred))\n",
        "#print(X[:,4])\n",
        "# plt.figure()\n",
        "# plt.scatter(X[:,2],X[:,3],c=y, cmap=cmap, edgecolors='k', s=20 )\n",
        "# #plt.legend(\"darkorange\")\n",
        "# plt.show()\n",
        "\n",
        "X_train.shape\n",
        "print(confusion_matrix(y_pred, y_test))\n",
        "print(classification_report(y_pred, y_test))\n"
      ],
      "metadata": {
        "colab": {
          "base_uri": "https://localhost:8080/"
        },
        "id": "UawCnYZL7Dz_",
        "outputId": "a9a44db6-e128-4975-b549-c7cf30284b91"
      },
      "execution_count": 349,
      "outputs": [
        {
          "output_type": "stream",
          "name": "stdout",
          "text": [
            "KNN classification accuracy 0.8656716417910447\n",
            "[[25  7  0]\n",
            " [ 1  4  0]\n",
            " [ 1  0 29]]\n",
            "              precision    recall  f1-score   support\n",
            "\n",
            "           0       0.93      0.78      0.85        32\n",
            "           1       0.36      0.80      0.50         5\n",
            "           2       1.00      0.97      0.98        30\n",
            "\n",
            "    accuracy                           0.87        67\n",
            "   macro avg       0.76      0.85      0.78        67\n",
            "weighted avg       0.92      0.87      0.88        67\n",
            "\n"
          ]
        }
      ]
    },
    {
      "cell_type": "code",
      "source": [
        "X_train, X_test, y_train, y_test = train_test_split(X[:,:-1], y, test_size=0.2, random_state=1333)\n",
        "print(X_train)\n",
        "# 3. Design a model\n",
        "k = 5\n",
        "\n",
        "clf = KNN(k=k)\n",
        "\n",
        "# 4. Train a model\n",
        "clf.fit(X_train, y_train)\n",
        "\n",
        "# 5. Make predictions\n",
        "y_pred = clf.predict(X_test)\n",
        "\n",
        "# 6. Evaluate predictions\n",
        "print(\"KNN classification accuracy\", accuracy(y_test, y_pred))\n",
        "#print(X[:,4])\n",
        "plt.figure()\n",
        "plt.scatter(X[:,4],X[:,3],c=y, cmap=cmap, edgecolors='k', s=20 )\n",
        "#plt.legend(\"darkorange\")\n",
        "plt.show()\n",
        "\n",
        "X_train.shape\n",
        "print(confusion_matrix(y_pred, y_test))\n",
        "print(classification_report(y_pred, y_test))"
      ],
      "metadata": {
        "colab": {
          "base_uri": "https://localhost:8080/",
          "height": 818
        },
        "id": "ptQeDzphJCyl",
        "outputId": "ec6b0178-7bfa-434d-80ef-85ca8a2284ec"
      },
      "execution_count": 352,
      "outputs": [
        {
          "output_type": "stream",
          "name": "stdout",
          "text": [
            "[[  42.5   17.3  187.  3350. ]\n",
            " [  44.1   19.7  196.  4400. ]\n",
            " [  39.6   20.7  191.  3900. ]\n",
            " ...\n",
            " [  49.2   15.2  221.  6300. ]\n",
            " [  39.7   18.4  190.  3900. ]\n",
            " [  42.9   13.1  215.  5000. ]]\n",
            "KNN classification accuracy 0.7313432835820896\n"
          ]
        },
        {
          "output_type": "display_data",
          "data": {
            "text/plain": [
              "<Figure size 640x480 with 1 Axes>"
            ],
            "image/png": "[encoded data removed]"
          },
          "metadata": {}
        },
        {
          "output_type": "stream",
          "name": "stdout",
          "text": [
            "[[25  8  5]\n",
            " [ 1  5  0]\n",
            " [ 3  1 19]]\n",
            "              precision    recall  f1-score   support\n",
            "\n",
            "           0       0.86      0.66      0.75        38\n",
            "           1       0.36      0.83      0.50         6\n",
            "           2       0.79      0.83      0.81        23\n",
            "\n",
            "    accuracy                           0.73        67\n",
            "   macro avg       0.67      0.77      0.68        67\n",
            "weighted avg       0.79      0.73      0.75        67\n",
            "\n"
          ]
        }
      ]
    },
    {
      "cell_type": "markdown",
      "metadata": {
        "id": "xFA8079oj8xY"
      },
      "source": [
        "## Discuss the results\n",
        "\n"
      ]
    }
  ]
}